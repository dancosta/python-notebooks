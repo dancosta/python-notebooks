{
 "cells": [
  {
   "cell_type": "markdown",
   "metadata": {},
   "source": [
    "# String Formatting "
   ]
  },
  {
   "cell_type": "code",
   "execution_count": 3,
   "metadata": {
    "collapsed": true
   },
   "outputs": [],
   "source": [
    "# first option is very similar to string formatting in C language \n",
    "\n",
    "name = \"Danilo\"\n",
    "\n",
    "greeting = \"Hello %s!\" %(name)"
   ]
  },
  {
   "cell_type": "code",
   "execution_count": 4,
   "metadata": {
    "collapsed": false
   },
   "outputs": [
    {
     "name": "stdout",
     "output_type": "stream",
     "text": [
      "Hello Danilo!\n"
     ]
    }
   ],
   "source": [
    "print(greeting)"
   ]
  },
  {
   "cell_type": "code",
   "execution_count": 6,
   "metadata": {
    "collapsed": false
   },
   "outputs": [
    {
     "name": "stdout",
     "output_type": "stream",
     "text": [
      "Pi 3.14159265359, pi = 3.142\n"
     ]
    }
   ],
   "source": [
    "# let's play with float point numbers\n",
    "pi = 3.14159265359\n",
    "\n",
    "print_pi = \"Pi %s, pi = %1.3f\" %(pi,pi)\n",
    "\n",
    "#let's see the difference using %s and %f\n",
    "print(print_pi)"
   ]
  },
  {
   "cell_type": "markdown",
   "metadata": {},
   "source": [
    "Note that %s uses the input as it is. pi was converted into a string.\n",
    "\n",
    "Using %f, uses the input as float point number, and you can control how many numbers before and after the dot. "
   ]
  },
  {
   "cell_type": "code",
   "execution_count": 8,
   "metadata": {
    "collapsed": false
   },
   "outputs": [
    {
     "name": "stdout",
     "output_type": "stream",
     "text": [
      "Pi = 3.1; pi = 3.14; pi = 3.14159\n"
     ]
    }
   ],
   "source": [
    "print(\"Pi = %1.1f; pi = %1.2f; pi = %1.5f\" %(pi,pi,pi)) "
   ]
  },
  {
   "cell_type": "code",
   "execution_count": 12,
   "metadata": {
    "collapsed": false
   },
   "outputs": [
    {
     "name": "stdout",
     "output_type": "stream",
     "text": [
      "n = 532.24; n = 532.24; n = 532.24; = 532.24\n"
     ]
    }
   ],
   "source": [
    "#lets play with another number and see how the number before '.' works on formating float point numbers. \n",
    "n = 532.235\n",
    "print(\"n = %.2f; n = %1.2f; n = %2.2f; = %3.2f\" %(n,n,n,n))"
   ]
  },
  {
   "cell_type": "markdown",
   "metadata": {},
   "source": [
    "We can see that nothing changed, but only until we use the number 7 (the **TOTAL** characteres we are printing. The number of digitis on the integer part is 3 plus 1 for the dot(.) plus 2 for decimal).\n",
    "\n",
    "After that, it is gonna put leading spaces before the number. Let's play and see."
   ]
  },
  {
   "cell_type": "code",
   "execution_count": 17,
   "metadata": {
    "collapsed": false
   },
   "outputs": [
    {
     "name": "stdout",
     "output_type": "stream",
     "text": [
      "n = 532.24; using 0\n",
      "n = 532.24; using 5\n",
      "n = 532.24; using 6\n",
      "n =  532.24; using 7\n",
      "n =   532.24; using 8\n",
      "n =     532.24; using 10\n",
      "n =          532.24; using 15\n",
      "n =                                             532.24; using 50\n"
     ]
    }
   ],
   "source": [
    "print(\"n = %.2f; using 0\" %(n))\n",
    "print(\"n = %5.2f; using 5\" %(n))\n",
    "print(\"n = %6.2f; using 6\" %(n))\n",
    "print(\"n = %7.2f; using 7\" %(n))\n",
    "print(\"n = %8.2f; using 8\" %(n))\n",
    "print(\"n = %10.2f; using 10\" %(n))\n",
    "print(\"n = %15.2f; using 15\" %(n))\n",
    "print(\"n = %50.2f; using 50\" %(n))"
   ]
  },
  {
   "cell_type": "markdown",
   "metadata": {},
   "source": [
    "Now let's use a more pythonic way of string formatting. We will use format method. "
   ]
  },
  {
   "cell_type": "code",
   "execution_count": 30,
   "metadata": {
    "collapsed": false
   },
   "outputs": [
    {
     "data": {
      "text/plain": [
       "'First: 30; second: 35.23'"
      ]
     },
     "execution_count": 30,
     "metadata": {},
     "output_type": "execute_result"
    }
   ],
   "source": [
    "\"First: {}; second: {}\".format(30, 35.23)"
   ]
  },
  {
   "cell_type": "code",
   "execution_count": 31,
   "metadata": {
    "collapsed": false
   },
   "outputs": [
    {
     "data": {
      "text/plain": [
       "'First: 30; second: 35.23'"
      ]
     },
     "execution_count": 31,
     "metadata": {},
     "output_type": "execute_result"
    }
   ],
   "source": [
    "\"First: {0}; second: {1}\".format(30, 35.23)"
   ]
  },
  {
   "cell_type": "code",
   "execution_count": 32,
   "metadata": {
    "collapsed": false
   },
   "outputs": [
    {
     "data": {
      "text/plain": [
       "'First: 35.23; second: 30'"
      ]
     },
     "execution_count": 32,
     "metadata": {},
     "output_type": "execute_result"
    }
   ],
   "source": [
    "\"First: {1}; second: {0}\".format(30, 35.23)"
   ]
  },
  {
   "cell_type": "markdown",
   "metadata": {},
   "source": [
    "As we can see above, we use {} as place holder for whatever we want to insert in the string. We can also index it, to control the order of the parameters.\n",
    "Bellow, we will use variable names inside the place holders. "
   ]
  },
  {
   "cell_type": "code",
   "execution_count": 33,
   "metadata": {
    "collapsed": false
   },
   "outputs": [
    {
     "data": {
      "text/plain": [
       "'Value of x is 10, the value of y is 5. We see that 10 > 5'"
      ]
     },
     "execution_count": 33,
     "metadata": {},
     "output_type": "execute_result"
    }
   ],
   "source": [
    "\"Value of x is {x}, the value of y is {y}. We see that {x} > {y}\".format(x=10, y=5)"
   ]
  },
  {
   "cell_type": "markdown",
   "metadata": {},
   "source": [
    "Now let's see how to format float point numbers."
   ]
  },
  {
   "cell_type": "code",
   "execution_count": 36,
   "metadata": {
    "collapsed": false
   },
   "outputs": [
    {
     "data": {
      "text/plain": [
       "'10.53'"
      ]
     },
     "execution_count": 36,
     "metadata": {},
     "output_type": "execute_result"
    }
   ],
   "source": [
    "\"{:.2f}\".format(10.534)"
   ]
  },
  {
   "cell_type": "markdown",
   "metadata": {},
   "source": [
    "Padding: "
   ]
  },
  {
   "cell_type": "code",
   "execution_count": 38,
   "metadata": {
    "collapsed": false
   },
   "outputs": [
    {
     "data": {
      "text/plain": [
       "'     10.53'"
      ]
     },
     "execution_count": 38,
     "metadata": {},
     "output_type": "execute_result"
    }
   ],
   "source": [
    "\"{:10.2f}\".format(10.534)"
   ]
  },
  {
   "cell_type": "markdown",
   "metadata": {},
   "source": [
    "we can also truncate strings using both methods."
   ]
  },
  {
   "cell_type": "code",
   "execution_count": 40,
   "metadata": {
    "collapsed": false
   },
   "outputs": [
    {
     "data": {
      "text/plain": [
       "'Truncated: ABCDE'"
      ]
     },
     "execution_count": 40,
     "metadata": {},
     "output_type": "execute_result"
    }
   ],
   "source": [
    "\"Truncated: %.5s\" %(\"ABCDEFGHIJKLMNOPQRSTUVWXYZ\")"
   ]
  },
  {
   "cell_type": "code",
   "execution_count": 41,
   "metadata": {
    "collapsed": false
   },
   "outputs": [
    {
     "data": {
      "text/plain": [
       "'Truncated: ABCDE'"
      ]
     },
     "execution_count": 41,
     "metadata": {},
     "output_type": "execute_result"
    }
   ],
   "source": [
    "\"Truncated: {:.5s}\".format(\"ABCDEFGHIJKLMNOPQRSTUVWXYZ\")"
   ]
  },
  {
   "cell_type": "markdown",
   "metadata": {},
   "source": [
    "Using variables, formating float point numbers and truncating strings "
   ]
  },
  {
   "cell_type": "code",
   "execution_count": 42,
   "metadata": {
    "collapsed": false
   },
   "outputs": [
    {
     "data": {
      "text/plain": [
       "'Number 3.14. Truncated: ABCDE'"
      ]
     },
     "execution_count": 42,
     "metadata": {},
     "output_type": "execute_result"
    }
   ],
   "source": [
    "\"Number {x:.2f}. Truncated: {s:.5s}\".format(s=\"ABCDEFGHIJKLMNOPQRSTUVWXYZ\",x=3.14159265359) "
   ]
  },
  {
   "cell_type": "code",
   "execution_count": null,
   "metadata": {
    "collapsed": true
   },
   "outputs": [],
   "source": []
  }
 ],
 "metadata": {
  "anaconda-cloud": {},
  "kernelspec": {
   "display_name": "Python [default]",
   "language": "python",
   "name": "python3"
  },
  "language_info": {
   "codemirror_mode": {
    "name": "ipython",
    "version": 3
   },
   "file_extension": ".py",
   "mimetype": "text/x-python",
   "name": "python",
   "nbconvert_exporter": "python",
   "pygments_lexer": "ipython3",
   "version": "3.5.2"
  }
 },
 "nbformat": 4,
 "nbformat_minor": 1
}
